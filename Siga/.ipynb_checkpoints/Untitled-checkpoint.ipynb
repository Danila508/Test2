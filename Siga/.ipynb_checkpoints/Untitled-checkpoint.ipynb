{
 "cells": [
  {
   "cell_type": "code",
   "execution_count": 39,
   "id": "db52d16b",
   "metadata": {},
   "outputs": [],
   "source": [
    "#Импорт библиотек\n",
    "import numpy as np\n",
    "import pandas as pd # импорт модуля Pandas\n",
    "import matplotlib.pyplot as plt # импорт инструментов визуализации\n",
    "import seaborn as sns # импорт пакета Seaborn для визуализации"
   ]
  },
  {
   "cell_type": "code",
   "execution_count": 40,
   "id": "d9052d56",
   "metadata": {},
   "outputs": [],
   "source": [
    "# получение данных из репозитория\n",
    "df=pd.read_csv('https://raw.githubusercontent.com/owid/covid-19-data/master/public/data/owid-covid-data.csv')"
   ]
  },
  {
   "cell_type": "code",
   "execution_count": 41,
   "id": "76763a2b",
   "metadata": {},
   "outputs": [
    {
     "data": {
      "text/plain": [
       "iso_code                                      0.000000\n",
       "continent                                     0.058210\n",
       "location                                      0.000000\n",
       "date                                          0.000000\n",
       "total_cases                                   0.039495\n",
       "new_cases                                     0.040797\n",
       "new_cases_smoothed                            0.047059\n",
       "total_deaths                                  0.137520\n",
       "new_deaths                                    0.137584\n",
       "new_deaths_smoothed                           0.143765\n",
       "total_cases_per_million                       0.043931\n",
       "new_cases_per_million                         0.045233\n",
       "new_cases_smoothed_per_million                0.051468\n",
       "total_deaths_per_million                      0.141886\n",
       "new_deaths_per_million                        0.141950\n",
       "new_deaths_smoothed_per_million               0.148105\n",
       "reproduction_rate                             0.251964\n",
       "icu_patients                                  0.870188\n",
       "icu_patients_per_million                      0.870188\n",
       "hosp_patients                                 0.863457\n",
       "hosp_patients_per_million                     0.863457\n",
       "weekly_icu_admissions                         0.967631\n",
       "weekly_icu_admissions_per_million             0.967631\n",
       "weekly_hosp_admissions                        0.935422\n",
       "weekly_hosp_admissions_per_million            0.935422\n",
       "total_tests                                   0.592036\n",
       "new_tests                                     0.607900\n",
       "total_tests_per_thousand                      0.592036\n",
       "new_tests_per_thousand                        0.607900\n",
       "new_tests_smoothed                            0.473775\n",
       "new_tests_smoothed_per_thousand               0.473775\n",
       "positive_rate                                 0.514903\n",
       "tests_per_case                                0.522483\n",
       "tests_units                                   0.458840\n",
       "total_vaccinations                            0.728542\n",
       "people_vaccinated                             0.741465\n",
       "people_fully_vaccinated                       0.755092\n",
       "total_boosters                                0.876887\n",
       "new_vaccinations                              0.778035\n",
       "new_vaccinations_smoothed                     0.465181\n",
       "total_vaccinations_per_hundred                0.728542\n",
       "people_vaccinated_per_hundred                 0.741465\n",
       "people_fully_vaccinated_per_hundred           0.755092\n",
       "total_boosters_per_hundred                    0.876887\n",
       "new_vaccinations_smoothed_per_million         0.465181\n",
       "new_people_vaccinated_smoothed                0.470546\n",
       "new_people_vaccinated_smoothed_per_hundred    0.470546\n",
       "stringency_index                              0.220038\n",
       "population                                    0.006128\n",
       "population_density                            0.108936\n",
       "median_age                                    0.173940\n",
       "aged_65_older                                 0.182700\n",
       "aged_70_older                                 0.178275\n",
       "gdp_per_capita                                0.178584\n",
       "extreme_poverty                               0.463542\n",
       "cardiovasc_death_rate                         0.175771\n",
       "diabetes_prevalence                           0.135529\n",
       "female_smokers                                0.376609\n",
       "male_smokers                                  0.385155\n",
       "handwashing_facilities                        0.595057\n",
       "hospital_beds_per_thousand                    0.268672\n",
       "life_expectancy                               0.064882\n",
       "human_development_index                       0.197139\n",
       "excess_mortality_cumulative_absolute          0.965517\n",
       "excess_mortality_cumulative                   0.965517\n",
       "excess_mortality                              0.965517\n",
       "excess_mortality_cumulative_per_million       0.965517\n",
       "dtype: float64"
      ]
     },
     "execution_count": 41,
     "metadata": {},
     "output_type": "execute_result"
    }
   ],
   "source": [
    "pd.set_option('display.max_rows',None)\n",
    "df.isnull().mean()"
   ]
  },
  {
   "cell_type": "code",
   "execution_count": 42,
   "id": "3aee76d2",
   "metadata": {},
   "outputs": [
    {
     "data": {
      "text/plain": [
       "(187340, 67)"
      ]
     },
     "execution_count": 42,
     "metadata": {},
     "output_type": "execute_result"
    }
   ],
   "source": [
    "df.shape"
   ]
  },
  {
   "cell_type": "code",
   "execution_count": 43,
   "id": "615727b5",
   "metadata": {},
   "outputs": [],
   "source": [
    "df2= ['new_cases', 'continent', 'total_cases','new_cases_smoothed']"
   ]
  },
  {
   "cell_type": "code",
   "execution_count": 44,
   "id": "d1a3b335",
   "metadata": {},
   "outputs": [
    {
     "data": {
      "text/plain": [
       "(167684, 4)"
      ]
     },
     "execution_count": 44,
     "metadata": {},
     "output_type": "execute_result"
    }
   ],
   "source": [
    "df_drop = df[df2].dropna()\n",
    "df_drop.shape"
   ]
  },
  {
   "cell_type": "code",
   "execution_count": 45,
   "id": "87a07443",
   "metadata": {},
   "outputs": [
    {
     "data": {
      "text/html": [
       "<div>\n",
       "<style scoped>\n",
       "    .dataframe tbody tr th:only-of-type {\n",
       "        vertical-align: middle;\n",
       "    }\n",
       "\n",
       "    .dataframe tbody tr th {\n",
       "        vertical-align: top;\n",
       "    }\n",
       "\n",
       "    .dataframe thead th {\n",
       "        text-align: right;\n",
       "    }\n",
       "</style>\n",
       "<table border=\"1\" class=\"dataframe\">\n",
       "  <thead>\n",
       "    <tr style=\"text-align: right;\">\n",
       "      <th></th>\n",
       "      <th>new_cases</th>\n",
       "      <th>continent</th>\n",
       "      <th>total_cases</th>\n",
       "      <th>new_cases_smoothed</th>\n",
       "    </tr>\n",
       "  </thead>\n",
       "  <tbody>\n",
       "    <tr>\n",
       "      <th>5</th>\n",
       "      <td>0.0</td>\n",
       "      <td>Asia</td>\n",
       "      <td>5.0</td>\n",
       "      <td>0.714</td>\n",
       "    </tr>\n",
       "    <tr>\n",
       "      <th>6</th>\n",
       "      <td>0.0</td>\n",
       "      <td>Asia</td>\n",
       "      <td>5.0</td>\n",
       "      <td>0.714</td>\n",
       "    </tr>\n",
       "    <tr>\n",
       "      <th>7</th>\n",
       "      <td>0.0</td>\n",
       "      <td>Asia</td>\n",
       "      <td>5.0</td>\n",
       "      <td>0.000</td>\n",
       "    </tr>\n",
       "    <tr>\n",
       "      <th>8</th>\n",
       "      <td>0.0</td>\n",
       "      <td>Asia</td>\n",
       "      <td>5.0</td>\n",
       "      <td>0.000</td>\n",
       "    </tr>\n",
       "    <tr>\n",
       "      <th>9</th>\n",
       "      <td>0.0</td>\n",
       "      <td>Asia</td>\n",
       "      <td>5.0</td>\n",
       "      <td>0.000</td>\n",
       "    </tr>\n",
       "    <tr>\n",
       "      <th>10</th>\n",
       "      <td>0.0</td>\n",
       "      <td>Asia</td>\n",
       "      <td>5.0</td>\n",
       "      <td>0.000</td>\n",
       "    </tr>\n",
       "    <tr>\n",
       "      <th>11</th>\n",
       "      <td>0.0</td>\n",
       "      <td>Asia</td>\n",
       "      <td>5.0</td>\n",
       "      <td>0.000</td>\n",
       "    </tr>\n",
       "    <tr>\n",
       "      <th>12</th>\n",
       "      <td>3.0</td>\n",
       "      <td>Asia</td>\n",
       "      <td>8.0</td>\n",
       "      <td>0.429</td>\n",
       "    </tr>\n",
       "    <tr>\n",
       "      <th>13</th>\n",
       "      <td>0.0</td>\n",
       "      <td>Asia</td>\n",
       "      <td>8.0</td>\n",
       "      <td>0.429</td>\n",
       "    </tr>\n",
       "    <tr>\n",
       "      <th>14</th>\n",
       "      <td>0.0</td>\n",
       "      <td>Asia</td>\n",
       "      <td>8.0</td>\n",
       "      <td>0.429</td>\n",
       "    </tr>\n",
       "  </tbody>\n",
       "</table>\n",
       "</div>"
      ],
      "text/plain": [
       "    new_cases continent  total_cases  new_cases_smoothed\n",
       "5         0.0      Asia          5.0               0.714\n",
       "6         0.0      Asia          5.0               0.714\n",
       "7         0.0      Asia          5.0               0.000\n",
       "8         0.0      Asia          5.0               0.000\n",
       "9         0.0      Asia          5.0               0.000\n",
       "10        0.0      Asia          5.0               0.000\n",
       "11        0.0      Asia          5.0               0.000\n",
       "12        3.0      Asia          8.0               0.429\n",
       "13        0.0      Asia          8.0               0.429\n",
       "14        0.0      Asia          8.0               0.429"
      ]
     },
     "execution_count": 45,
     "metadata": {},
     "output_type": "execute_result"
    }
   ],
   "source": [
    "df_drop.head(10)"
   ]
  },
  {
   "cell_type": "code",
   "execution_count": 46,
   "id": "ce809f09",
   "metadata": {},
   "outputs": [],
   "source": [
    "def plot_hist_diff(old_ds, new_ds, cols):\n",
    "    for c in cols:\n",
    "        fig = plt.figure()\n",
    "        ax = fig.add_subplot(111)\n",
    "        ax.title.set_text('Поле - ' + str(c))\n",
    "        old_ds[c].hist(bins=50, ax=ax, density=True, color='green')\n",
    "        new_ds[c].hist(bins=50, ax=ax, color='blue', density=True, alpha=0.5)\n",
    "        plt.show()"
   ]
  },
  {
   "cell_type": "code",
   "execution_count": 47,
   "id": "b0a5dbe1",
   "metadata": {},
   "outputs": [
    {
     "data": {
      "image/png": "[encoded data removed]",
      "text/plain": [
       "<Figure size 432x288 with 1 Axes>"
      ]
     },
     "metadata": {
      "needs_background": "light"
     },
     "output_type": "display_data"
    },
    {
     "data": {
      "image/png": "[encoded data removed]",
      "text/plain": [
       "<Figure size 432x288 with 1 Axes>"
      ]
     },
     "metadata": {
      "needs_background": "light"
     },
     "output_type": "display_data"
    },
    {
     "data": {
      "image/png": "[encoded data removed]",
      "text/plain": [
       "<Figure size 432x288 with 1 Axes>"
      ]
     },
     "metadata": {
      "needs_background": "light"
     },
     "output_type": "display_data"
    },
    {
     "data": {
      "image/png": "[encoded data removed]",
      "text/plain": [
       "<Figure size 432x288 with 1 Axes>"
      ]
     },
     "metadata": {
      "needs_background": "light"
     },
     "output_type": "display_data"
    }
   ],
   "source": [
    "plot_hist_diff(df, df_drop, df2)"
   ]
  },
  {
   "cell_type": "code",
   "execution_count": null,
   "id": "1f0561d3",
   "metadata": {},
   "outputs": [],
   "source": []
  }
 ],
 "metadata": {
  "kernelspec": {
   "display_name": "Python 3",
   "language": "python",
   "name": "python3"
  },
  "language_info": {
   "codemirror_mode": {
    "name": "ipython",
    "version": 3
   },
   "file_extension": ".py",
   "mimetype": "text/x-python",
   "name": "python",
   "nbconvert_exporter": "python",
   "pygments_lexer": "ipython3",
   "version": "3.8.8"
  }
 },
 "nbformat": 4,
 "nbformat_minor": 5
}
